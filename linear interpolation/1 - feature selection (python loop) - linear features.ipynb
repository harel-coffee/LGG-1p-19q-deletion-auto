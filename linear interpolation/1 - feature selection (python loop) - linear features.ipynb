{
 "cells": [
  {
   "cell_type": "code",
   "execution_count": null,
   "metadata": {},
   "outputs": [],
   "source": [
    "import pandas as pd\n",
    "import numpy as np\n",
    "import time\n",
    "import operator\n",
    "from sklearn.model_selection import train_test_split\n",
    "from imblearn.over_sampling import ADASYN\n",
    "from sklearn.ensemble import RandomForestClassifier\n",
    "from sklearn.feature_selection import RFECV\n",
    "from sklearn.model_selection import StratifiedKFold\n",
    "from sklearn.preprocessing import StandardScaler"
   ]
  },
  {
   "cell_type": "code",
   "execution_count": null,
   "metadata": {},
   "outputs": [],
   "source": [
    "# SET THE VARIABLES FOR LOOP\n",
    "\n",
    "file_csv = pd.read_csv(r\"training - linear after WEKA CfsSubsetEval.csv\", index_col='exam') # LOAD THE DATABASE\n",
    "size_mapping={\"codeletion\":0,\"noncodeletion\":1} # MAPPING for outcome \n",
    "file_csv[\"outcome\"]=file_csv[\"outcome\"].map(size_mapping)\n",
    "\n",
    "LOOP = range(300) # SET THE NUMBER OF ITERATIONS\n",
    "\n",
    "model = RandomForestClassifier(random_state=1, n_estimators=100) # SELECT THE MODEL\n",
    "\n",
    "CV = 10 # SELECT THE NUMBER OF CROSS VALIDATION FOLDERS \n",
    "\n",
    "correlation_limit = 0.85 # SELECT VALUE FOR CORRELATION LIMIT TO REMOVE HIGH CORRELATED FEATURES (SPEARMAN)\n",
    "\n",
    "n_features_CVFSE = 15 # HOW MANY FEATURES TO KEEP EACH LOOP IN RFECV (FSE WITH CROSS VALIDATION)"
   ]
  },
  {
   "cell_type": "code",
   "execution_count": null,
   "metadata": {
    "scrolled": true
   },
   "outputs": [],
   "source": [
    "# START THE LOOP\n",
    "\n",
    "all_features_list=[]\n",
    "\n",
    "for exp in LOOP:\n",
    "    \n",
    "    print (\"Cicle number:\",exp+1)\n",
    "    start = time.time()\n",
    "    data_df = file_csv\n",
    "\n",
    "    x = data_df.drop(\"outcome\",axis=1).values\n",
    "    y = data_df[\"outcome\"].values \n",
    "\n",
    "    train_df, test_df = train_test_split(data_df, test_size=0.3,random_state=exp, stratify=y)\n",
    "\n",
    "    x_train_df=train_df.drop(\"outcome\",axis=1)\n",
    "    x_test_df=test_df.drop(\"outcome\",axis=1)\n",
    "    y_train_df = train_df[\"outcome\"]\n",
    "    y_test_df = test_df[\"outcome\"]\n",
    "\n",
    "    # StandardScaler\n",
    "    ss = StandardScaler() \n",
    "    x_train_np = ss.fit_transform(x_train_df) \n",
    "    x_train_df=pd.DataFrame(x_train_np, index=x_train_df.index, columns=x_train_df.columns)\n",
    "    x_test_np = ss.fit_transform(x_test_df) \n",
    "    x_test_df=pd.DataFrame(x_test_np, index=x_test_df.index, columns=x_test_df.columns)\n",
    "\n",
    "    # Create correlation matrix\n",
    "    corr_matrix = x_train_df.corr(method ='spearman').abs()\n",
    "    # Select upper triangle of correlation matrix\n",
    "    upper = corr_matrix.where(np.triu(np.ones(corr_matrix.shape), k=1).astype(np.bool))\n",
    "    # Find features with correlation greater than 0.85\n",
    "    to_drop = [column for column in upper.columns if any(upper[column] > correlation_limit)]\n",
    "    # Drop features and create a new dataframe (train_df2)\n",
    "    x_train_df2=x_train_df.drop(data_df[to_drop], axis=1)\n",
    "    y_train_df2 = y_train_df.copy()\n",
    "\n",
    "    # TO BALANCE THE DATASET FOR RFE WITH ADASYN     \n",
    "    sm = ADASYN(random_state=1)\n",
    "    x_train_NP2_balanced_for_RFE, y_train_NP2_balanced_for_RFE = sm.fit_sample(x_train_df2, y_train_df2)\n",
    "    x_train_df2_balanced_RFE=pd.DataFrame(x_train_NP2_balanced_for_RFE, columns=x_train_df2.columns)\n",
    "    y_train_df2_balanced_RFE=pd.DataFrame(y_train_NP2_balanced_for_RFE, columns=[\"outcome\"])\n",
    "\n",
    "    # FSE WITH CROSS VALIDATION (RFECV)\n",
    "    model_RFE = model # Choose the model for RFECV\n",
    "    rfecv = RFECV(estimator=model_RFE, step=1, cv=StratifiedKFold(CV), scoring='accuracy')\n",
    "    rfecv.fit(x_train_df2_balanced_RFE,y_train_df2_balanced_RFE.values.ravel())\n",
    "    rfecv.grid_scores_df=pd.DataFrame(rfecv.grid_scores_)\n",
    "    rfecv.grid_scores_df.index += 1 \n",
    "    number_of_features=n_features_CVFSE \n",
    "    selected_feature_names=x_train_df2_balanced_RFE.columns[list(rfecv.support_)]\n",
    "    feat_dict ={}\n",
    "    feat_import = list(rfecv.estimator_.feature_importances_)\n",
    "    for i,name in enumerate(selected_feature_names):\n",
    "        feat_dict[name] = feat_import[i]\n",
    "    sorted_list = sorted(feat_dict.items(), key=operator.itemgetter(1), reverse=True)\n",
    "    temp_NP=np.array(sorted_list)\n",
    "    temp_DF=pd.Series(temp_NP[:number_of_features,0])\n",
    "    selected_features_rfe=[list(temp_DF)]\n",
    "    sorted_list[:number_of_features]\n",
    "    features_list=[[l[0]] for l in sorted_list[:number_of_features]]\n",
    "    all_features_list.append(features_list)\n",
    "    \n",
    "    end = time.time()\n",
    "    print(\"time elapsed\", end - start)"
   ]
  },
  {
   "cell_type": "code",
   "execution_count": null,
   "metadata": {},
   "outputs": [],
   "source": [
    "# to SAVE results into panda dataframe and EXPORT in csv format\n",
    "all_features_list_df=pd.DataFrame(all_features_list)\n",
    "all_features_list_df.to_csv(\"training_linear_all_features_list_result.csv\", index=False)"
   ]
  }
 ],
 "metadata": {
  "kernelspec": {
   "display_name": "Python 3",
   "language": "python",
   "name": "python3"
  },
  "language_info": {
   "codemirror_mode": {
    "name": "ipython",
    "version": 3
   },
   "file_extension": ".py",
   "mimetype": "text/x-python",
   "name": "python",
   "nbconvert_exporter": "python",
   "pygments_lexer": "ipython3",
   "version": "3.7.6"
  }
 },
 "nbformat": 4,
 "nbformat_minor": 2
}
